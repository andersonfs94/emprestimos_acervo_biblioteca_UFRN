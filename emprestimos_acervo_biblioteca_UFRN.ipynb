{
  "nbformat": 4,
  "nbformat_minor": 0,
  "metadata": {
    "colab": {
      "provenance": [],
      "authorship_tag": "ABX9TyPRxx2sy0TESC48zgZYCFDT",
      "include_colab_link": true
    },
    "kernelspec": {
      "name": "python3",
      "display_name": "Python 3"
    },
    "language_info": {
      "name": "python"
    }
  },
  "cells": [
    {
      "cell_type": "markdown",
      "metadata": {
        "id": "view-in-github",
        "colab_type": "text"
      },
      "source": [
        "<a href=\"https://colab.research.google.com/github/andersonfs94/emprestimos_acervo_biblioteca_UFRN/blob/main/emprestimos_acervo_biblioteca_UFRN.ipynb\" target=\"_parent\"><img src=\"https://colab.research.google.com/assets/colab-badge.svg\" alt=\"Open In Colab\"/></a>"
      ]
    },
    {
      "cell_type": "markdown",
      "source": [
        "A quantidade de empréstimos está aumentando ou diminuindo ao decorrer dos últimos anos?\n",
        "\n",
        "Em quais bibliotecas do sistema estão a maior quantidade de empréstimos?\n",
        "\n",
        "Quais são os temas mais emprestados? E os menos?"
      ],
      "metadata": {
        "id": "qMGBW5i-yqYk"
      }
    },
    {
      "cell_type": "markdown",
      "source": [
        " O seu primeiro passo é unificar em um único Dataframe todos os dados pertinentes para a análise.\n",
        "\n",
        " Comece pelos empréstimos e você terá os dados das transações. Depois, mescle com os dados do acervo, para que você possa entender, por exemplo, de qual biblioteca era o material emprestado ou a qual tema ele se referia. Elas se relacionam pela coluna de código de barras de cada material.\n",
        "\n",
        " Lembre-se que é muito comum receber dados nulos ou duplicados, por isso não deixe de fazer a limpeza."
      ],
      "metadata": {
        "id": "WacBe4zYy6oo"
      }
    },
    {
      "cell_type": "code",
      "execution_count": null,
      "metadata": {
        "id": "rIUljSHit_IK"
      },
      "outputs": [],
      "source": [
        "url_20101 = \"https://raw.githubusercontent.com/andersonfs94/emprestimos_acervo_biblioteca_UFRN/main/emprestimos-20101.csv\"\n",
        "url_20102 = \"https://raw.githubusercontent.com/andersonfs94/emprestimos_acervo_biblioteca_UFRN/main/emprestimos-20102.csv\"\n",
        "url_20111 = \"https://raw.githubusercontent.com/andersonfs94/emprestimos_acervo_biblioteca_UFRN/main/emprestimos-20111.csv\"\n",
        "url_20112 = \"https://raw.githubusercontent.com/andersonfs94/emprestimos_acervo_biblioteca_UFRN/main/emprestimos-20112.csv\"\n",
        "url_20121 = \"https://raw.githubusercontent.com/andersonfs94/emprestimos_acervo_biblioteca_UFRN/main/emprestimos-20121.csv\"\n",
        "url_20122 = \"https://raw.githubusercontent.com/andersonfs94/emprestimos_acervo_biblioteca_UFRN/main/emprestimos-20122.csv\"\n",
        "url_20131 = \"https://raw.githubusercontent.com/andersonfs94/emprestimos_acervo_biblioteca_UFRN/main/emprestimos-20131.csv\"\n",
        "url_20132 = \"https://raw.githubusercontent.com/andersonfs94/emprestimos_acervo_biblioteca_UFRN/main/emprestimos-20132.csv\"\n",
        "url_20141 = \"https://raw.githubusercontent.com/andersonfs94/emprestimos_acervo_biblioteca_UFRN/main/emprestimos-20141.csv\"\n",
        "url_20142 = \"https://raw.githubusercontent.com/andersonfs94/emprestimos_acervo_biblioteca_UFRN/main/emprestimos-20142.csv\"\n",
        "url_20151 = \"https://raw.githubusercontent.com/andersonfs94/emprestimos_acervo_biblioteca_UFRN/main/emprestimos-20151.csv\"\n",
        "url_20152 = \"https://raw.githubusercontent.com/andersonfs94/emprestimos_acervo_biblioteca_UFRN/main/emprestimos-20152.csv\"\n",
        "url_20161 = \"https://raw.githubusercontent.com/andersonfs94/emprestimos_acervo_biblioteca_UFRN/main/emprestimos-20161.csv\"\n",
        "url_20162 = \"https://raw.githubusercontent.com/andersonfs94/emprestimos_acervo_biblioteca_UFRN/main/emprestimos-20162.csv\"\n",
        "url_20171 = \"https://raw.githubusercontent.com/andersonfs94/emprestimos_acervo_biblioteca_UFRN/main/emprestimos-20171.csv\"\n",
        "url_20172 = \"https://raw.githubusercontent.com/andersonfs94/emprestimos_acervo_biblioteca_UFRN/main/emprestimos-20172.csv\"\n",
        "url_20181 = \"https://raw.githubusercontent.com/andersonfs94/emprestimos_acervo_biblioteca_UFRN/main/emprestimos-20181.csv\"\n",
        "url_20182 = \"https://raw.githubusercontent.com/andersonfs94/emprestimos_acervo_biblioteca_UFRN/main/emprestimos-20182.csv\"\n",
        "url_20191 = \"https://raw.githubusercontent.com/andersonfs94/emprestimos_acervo_biblioteca_UFRN/main/emprestimos-20191.csv\"\n",
        "url_20192 = \"https://raw.githubusercontent.com/andersonfs94/emprestimos_acervo_biblioteca_UFRN/main/emprestimos-20192.csv\"\n",
        "url_20201 = \"https://raw.githubusercontent.com/andersonfs94/emprestimos_acervo_biblioteca_UFRN/main/emprestimos-20201.csv\"\n",
        "\n"
      ]
    }
  ]
}